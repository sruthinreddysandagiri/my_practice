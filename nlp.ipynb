{
 "cells": [
  {
   "cell_type": "code",
   "execution_count": 1,
   "metadata": {},
   "outputs": [
    {
     "name": "stdout",
     "output_type": "stream",
     "text": [
      "hello world\n"
     ]
    }
   ],
   "source": [
    "print(\"hello world\")"
   ]
  },
  {
   "cell_type": "code",
   "execution_count": 2,
   "metadata": {},
   "outputs": [],
   "source": [
    "text = \" A woman finds a pot of treasure on the road while she is returning from work. Delighted with her luck, she decides to keep it. As she is taking it home, it keeps changing. However, her enthusiasm refuses to fade away. What Is Great About It: The old lady in this story is one of the most cheerful characters anyone can encounter in English fiction. Her positive disposition (personality) tries to make every negative transformation seem like a gift, and she helps us look at luck as a matter of perspective rather than events.\""
   ]
  },
  {
   "cell_type": "code",
   "execution_count": 3,
   "metadata": {},
   "outputs": [
    {
     "data": {
      "text/plain": [
       "' A woman finds a pot of treasure on the road while she is returning from work. Delighted with her luck, she decides to keep it. As she is taking it home, it keeps changing. However, her enthusiasm refuses to fade away. What Is Great About It: The old lady in this story is one of the most cheerful characters anyone can encounter in English fiction. Her positive disposition (personality) tries to make every negative transformation seem like a gift, and she helps us look at luck as a matter of perspective rather than events.'"
      ]
     },
     "execution_count": 3,
     "metadata": {},
     "output_type": "execute_result"
    }
   ],
   "source": [
    "text"
   ]
  },
  {
   "cell_type": "code",
   "execution_count": 4,
   "metadata": {},
   "outputs": [],
   "source": [
    "import nltk"
   ]
  },
  {
   "cell_type": "code",
   "execution_count": 5,
   "metadata": {},
   "outputs": [],
   "source": [
    "import re"
   ]
  },
  {
   "cell_type": "code",
   "execution_count": 10,
   "metadata": {},
   "outputs": [],
   "source": [
    "dataset = nltk.sent_tokenize(text)"
   ]
  },
  {
   "cell_type": "code",
   "execution_count": 11,
   "metadata": {},
   "outputs": [
    {
     "data": {
      "text/plain": [
       "[' A woman finds a pot of treasure on the road while she is returning from work.',\n",
       " 'Delighted with her luck, she decides to keep it.',\n",
       " 'As she is taking it home, it keeps changing.',\n",
       " 'However, her enthusiasm refuses to fade away.',\n",
       " 'What Is Great About It: The old lady in this story is one of the most cheerful characters anyone can encounter in English fiction.',\n",
       " 'Her positive disposition (personality) tries to make every negative transformation seem like a gift, and she helps us look at luck as a matter of perspective rather than events.']"
      ]
     },
     "execution_count": 11,
     "metadata": {},
     "output_type": "execute_result"
    }
   ],
   "source": [
    "dataset"
   ]
  },
  {
   "cell_type": "code",
   "execution_count": 14,
   "metadata": {},
   "outputs": [],
   "source": [
    "for i in range(len(dataset)):\n",
    "    dataset[i]= dataset[i].lower()\n",
    "    dataset[i]= re.sub(r'\\W',' ', dataset[i])\n",
    "    dataset[i]= re.sub(r'\\s+', ' ', dataset[i])\n",
    "    \n",
    "    "
   ]
  },
  {
   "cell_type": "code",
   "execution_count": 15,
   "metadata": {},
   "outputs": [
    {
     "data": {
      "text/plain": [
       "[' ', ' ', ' ', ' ', ' ', ' ']"
      ]
     },
     "execution_count": 15,
     "metadata": {},
     "output_type": "execute_result"
    }
   ],
   "source": [
    "dataset"
   ]
  },
  {
   "cell_type": "code",
   "execution_count": 16,
   "metadata": {},
   "outputs": [],
   "source": [
    "word2count = {}\n",
    "for data  in dataset:\n",
    "    words = nltk.word_tokenize(data)\n",
    "    for word in words:\n",
    "        if word not in word2count.keys():\n",
    "            word2count[word]=1\n",
    "        else:\n",
    "            word2count[word]= + 1\n",
    "            "
   ]
  },
  {
   "cell_type": "code",
   "execution_count": 17,
   "metadata": {},
   "outputs": [
    {
     "data": {
      "text/plain": [
       "{}"
      ]
     },
     "execution_count": 17,
     "metadata": {},
     "output_type": "execute_result"
    }
   ],
   "source": [
    "word2count"
   ]
  },
  {
   "cell_type": "code",
   "execution_count": 1,
   "metadata": {},
   "outputs": [],
   "source": [
    "import pandas as pd\n",
    "from sklearn.feature_extraction.text import TfidfVectorizer"
   ]
  },
  {
   "cell_type": "code",
   "execution_count": 2,
   "metadata": {},
   "outputs": [],
   "source": [
    "documentA = \"When you want to take control of your life and make the most of everything around you…\"\n",
    "documentB = \" When you want to experience more good things in your life but you’ve been focused on the problems…\""
   ]
  },
  {
   "cell_type": "code",
   "execution_count": 5,
   "metadata": {},
   "outputs": [],
   "source": [
    "bagOfWordsA = documentA.split(' ')\n",
    "bagOfWordsB = documentB.split(' ')"
   ]
  },
  {
   "cell_type": "code",
   "execution_count": 9,
   "metadata": {},
   "outputs": [
    {
     "data": {
      "text/plain": [
       "['',\n",
       " 'When',\n",
       " 'you',\n",
       " 'want',\n",
       " 'to',\n",
       " 'experience',\n",
       " 'more',\n",
       " 'good',\n",
       " 'things',\n",
       " 'in',\n",
       " 'your',\n",
       " 'life',\n",
       " 'but',\n",
       " 'you’ve',\n",
       " 'been',\n",
       " 'focused',\n",
       " 'on',\n",
       " 'the',\n",
       " 'problems…']"
      ]
     },
     "execution_count": 9,
     "metadata": {},
     "output_type": "execute_result"
    }
   ],
   "source": [
    "bagOfWordsA\n"
   ]
  },
  {
   "cell_type": "code",
   "execution_count": 10,
   "metadata": {},
   "outputs": [
    {
     "data": {
      "text/plain": [
       "['',\n",
       " 'When',\n",
       " 'you',\n",
       " 'want',\n",
       " 'to',\n",
       " 'experience',\n",
       " 'more',\n",
       " 'good',\n",
       " 'things',\n",
       " 'in',\n",
       " 'your',\n",
       " 'life',\n",
       " 'but',\n",
       " 'you’ve',\n",
       " 'been',\n",
       " 'focused',\n",
       " 'on',\n",
       " 'the',\n",
       " 'problems…']"
      ]
     },
     "execution_count": 10,
     "metadata": {},
     "output_type": "execute_result"
    }
   ],
   "source": [
    "bagOfWordsB"
   ]
  },
  {
   "cell_type": "code",
   "execution_count": 11,
   "metadata": {},
   "outputs": [],
   "source": [
    "uniqueWords = set(bagOfWordsA).union(set(bagOfWordsB))"
   ]
  },
  {
   "cell_type": "code",
   "execution_count": 12,
   "metadata": {},
   "outputs": [
    {
     "data": {
      "text/plain": [
       "{'',\n",
       " 'When',\n",
       " 'and',\n",
       " 'around',\n",
       " 'been',\n",
       " 'but',\n",
       " 'control',\n",
       " 'everything',\n",
       " 'experience',\n",
       " 'focused',\n",
       " 'good',\n",
       " 'in',\n",
       " 'life',\n",
       " 'make',\n",
       " 'more',\n",
       " 'most',\n",
       " 'of',\n",
       " 'on',\n",
       " 'problems…',\n",
       " 'take',\n",
       " 'the',\n",
       " 'things',\n",
       " 'to',\n",
       " 'want',\n",
       " 'you',\n",
       " 'your',\n",
       " 'you’ve',\n",
       " 'you…'}"
      ]
     },
     "execution_count": 12,
     "metadata": {},
     "output_type": "execute_result"
    }
   ],
   "source": [
    "uniqueWords"
   ]
  },
  {
   "cell_type": "code",
   "execution_count": 13,
   "metadata": {},
   "outputs": [],
   "source": [
    "numOfWordsA = dict.fromkeys(uniqueWords, 0)\n",
    "for word in bagOfWordsA:\n",
    "    numOfWordsA[word] += 1\n",
    "numOfWordsB = dict.fromkeys(uniqueWords, 0)\n",
    "for word in bagOfWordsB:\n",
    "    numOfWordsB[word] += 1"
   ]
  },
  {
   "cell_type": "code",
   "execution_count": 14,
   "metadata": {},
   "outputs": [
    {
     "data": {
      "text/plain": [
       "{'you': 1,\n",
       " '': 0,\n",
       " 'make': 1,\n",
       " 'things': 0,\n",
       " 'your': 1,\n",
       " 'been': 0,\n",
       " 'in': 0,\n",
       " 'on': 0,\n",
       " 'more': 0,\n",
       " 'to': 1,\n",
       " 'focused': 0,\n",
       " 'When': 1,\n",
       " 'experience': 0,\n",
       " 'everything': 1,\n",
       " 'you…': 1,\n",
       " 'good': 0,\n",
       " 'control': 1,\n",
       " 'want': 1,\n",
       " 'of': 2,\n",
       " 'take': 1,\n",
       " 'the': 1,\n",
       " 'problems…': 0,\n",
       " 'you’ve': 0,\n",
       " 'but': 0,\n",
       " 'life': 1,\n",
       " 'and': 1,\n",
       " 'most': 1,\n",
       " 'around': 1}"
      ]
     },
     "execution_count": 14,
     "metadata": {},
     "output_type": "execute_result"
    }
   ],
   "source": [
    "numOfWordsA"
   ]
  },
  {
   "cell_type": "code",
   "execution_count": 15,
   "metadata": {},
   "outputs": [
    {
     "data": {
      "text/plain": [
       "{'you': 1,\n",
       " '': 1,\n",
       " 'make': 0,\n",
       " 'things': 1,\n",
       " 'your': 1,\n",
       " 'been': 1,\n",
       " 'in': 1,\n",
       " 'on': 1,\n",
       " 'more': 1,\n",
       " 'to': 1,\n",
       " 'focused': 1,\n",
       " 'When': 1,\n",
       " 'experience': 1,\n",
       " 'everything': 0,\n",
       " 'you…': 0,\n",
       " 'good': 1,\n",
       " 'control': 0,\n",
       " 'want': 1,\n",
       " 'of': 0,\n",
       " 'take': 0,\n",
       " 'the': 1,\n",
       " 'problems…': 1,\n",
       " 'you’ve': 1,\n",
       " 'but': 1,\n",
       " 'life': 1,\n",
       " 'and': 0,\n",
       " 'most': 0,\n",
       " 'around': 0}"
      ]
     },
     "execution_count": 15,
     "metadata": {},
     "output_type": "execute_result"
    }
   ],
   "source": [
    "numOfWordsB"
   ]
  },
  {
   "cell_type": "code",
   "execution_count": 18,
   "metadata": {},
   "outputs": [],
   "source": [
    "def computeTF(wordDict, bagOfWords):\n",
    "    tfDict = {}\n",
    "    bagOfWordsCount = len(bagOfWords)\n",
    "    for word, count in wordDict.items():\n",
    "        tfDict[word] = count / float(bagOfWordsCount)\n",
    "    return tfDict"
   ]
  },
  {
   "cell_type": "code",
   "execution_count": 19,
   "metadata": {},
   "outputs": [],
   "source": [
    "tfA = computeTF(numOfWordsA, bagOfWordsA)\n",
    "tfB = computeTF(numOfWordsB, bagOfWordsB)"
   ]
  },
  {
   "cell_type": "code",
   "execution_count": 20,
   "metadata": {},
   "outputs": [],
   "source": [
    "def computeIDF(documents):\n",
    "    import math\n",
    "    N = len(documents)\n",
    "    \n",
    "    idfDict = dict.fromkeys(documents[0].keys(), 0)\n",
    "    for document in documents:\n",
    "        for word, val in document.items():\n",
    "            if val > 0:\n",
    "                idfDict[word] += 1\n",
    "    \n",
    "    for word, val in idfDict.items():\n",
    "        idfDict[word] = math.log(N / float(val))\n",
    "    return idfDict"
   ]
  },
  {
   "cell_type": "code",
   "execution_count": 21,
   "metadata": {},
   "outputs": [],
   "source": [
    "idfs = computeIDF([numOfWordsA, numOfWordsB])"
   ]
  },
  {
   "cell_type": "code",
   "execution_count": 22,
   "metadata": {},
   "outputs": [],
   "source": [
    "def computeTFIDF(tfBagOfWords, idfs):\n",
    "    tfidf = {}\n",
    "    for word, val in tfBagOfWords.items():\n",
    "        tfidf[word] = val * idfs[word]\n",
    "    return tfidf"
   ]
  },
  {
   "cell_type": "code",
   "execution_count": 23,
   "metadata": {},
   "outputs": [],
   "source": [
    "tfidfA = computeTFIDF(tfA, idfs)\n",
    "tfidfB = computeTFIDF(tfB, idfs)\n",
    "df = pd.DataFrame([tfidfA, tfidfB])"
   ]
  },
  {
   "cell_type": "code",
   "execution_count": 24,
   "metadata": {},
   "outputs": [
    {
     "data": {
      "text/html": [
       "<div>\n",
       "<style scoped>\n",
       "    .dataframe tbody tr th:only-of-type {\n",
       "        vertical-align: middle;\n",
       "    }\n",
       "\n",
       "    .dataframe tbody tr th {\n",
       "        vertical-align: top;\n",
       "    }\n",
       "\n",
       "    .dataframe thead th {\n",
       "        text-align: right;\n",
       "    }\n",
       "</style>\n",
       "<table border=\"1\" class=\"dataframe\">\n",
       "  <thead>\n",
       "    <tr style=\"text-align: right;\">\n",
       "      <th></th>\n",
       "      <th></th>\n",
       "      <th>When</th>\n",
       "      <th>and</th>\n",
       "      <th>around</th>\n",
       "      <th>been</th>\n",
       "      <th>but</th>\n",
       "      <th>control</th>\n",
       "      <th>everything</th>\n",
       "      <th>experience</th>\n",
       "      <th>focused</th>\n",
       "      <th>...</th>\n",
       "      <th>problems…</th>\n",
       "      <th>take</th>\n",
       "      <th>the</th>\n",
       "      <th>things</th>\n",
       "      <th>to</th>\n",
       "      <th>want</th>\n",
       "      <th>you</th>\n",
       "      <th>your</th>\n",
       "      <th>you’ve</th>\n",
       "      <th>you…</th>\n",
       "    </tr>\n",
       "  </thead>\n",
       "  <tbody>\n",
       "    <tr>\n",
       "      <th>0</th>\n",
       "      <td>0.000000</td>\n",
       "      <td>0.0</td>\n",
       "      <td>0.040773</td>\n",
       "      <td>0.040773</td>\n",
       "      <td>0.000000</td>\n",
       "      <td>0.000000</td>\n",
       "      <td>0.040773</td>\n",
       "      <td>0.040773</td>\n",
       "      <td>0.000000</td>\n",
       "      <td>0.000000</td>\n",
       "      <td>...</td>\n",
       "      <td>0.000000</td>\n",
       "      <td>0.040773</td>\n",
       "      <td>0.0</td>\n",
       "      <td>0.000000</td>\n",
       "      <td>0.0</td>\n",
       "      <td>0.0</td>\n",
       "      <td>0.0</td>\n",
       "      <td>0.0</td>\n",
       "      <td>0.000000</td>\n",
       "      <td>0.040773</td>\n",
       "    </tr>\n",
       "    <tr>\n",
       "      <th>1</th>\n",
       "      <td>0.036481</td>\n",
       "      <td>0.0</td>\n",
       "      <td>0.000000</td>\n",
       "      <td>0.000000</td>\n",
       "      <td>0.036481</td>\n",
       "      <td>0.036481</td>\n",
       "      <td>0.000000</td>\n",
       "      <td>0.000000</td>\n",
       "      <td>0.036481</td>\n",
       "      <td>0.036481</td>\n",
       "      <td>...</td>\n",
       "      <td>0.036481</td>\n",
       "      <td>0.000000</td>\n",
       "      <td>0.0</td>\n",
       "      <td>0.036481</td>\n",
       "      <td>0.0</td>\n",
       "      <td>0.0</td>\n",
       "      <td>0.0</td>\n",
       "      <td>0.0</td>\n",
       "      <td>0.036481</td>\n",
       "      <td>0.000000</td>\n",
       "    </tr>\n",
       "  </tbody>\n",
       "</table>\n",
       "<p>2 rows × 28 columns</p>\n",
       "</div>"
      ],
      "text/plain": [
       "             When       and    around      been       but   control  \\\n",
       "0  0.000000   0.0  0.040773  0.040773  0.000000  0.000000  0.040773   \n",
       "1  0.036481   0.0  0.000000  0.000000  0.036481  0.036481  0.000000   \n",
       "\n",
       "   everything  experience   focused  ...  problems…      take  the    things  \\\n",
       "0    0.040773    0.000000  0.000000  ...   0.000000  0.040773  0.0  0.000000   \n",
       "1    0.000000    0.036481  0.036481  ...   0.036481  0.000000  0.0  0.036481   \n",
       "\n",
       "    to  want  you  your    you’ve      you…  \n",
       "0  0.0   0.0  0.0   0.0  0.000000  0.040773  \n",
       "1  0.0   0.0  0.0   0.0  0.036481  0.000000  \n",
       "\n",
       "[2 rows x 28 columns]"
      ]
     },
     "execution_count": 24,
     "metadata": {},
     "output_type": "execute_result"
    }
   ],
   "source": [
    "df"
   ]
  },
  {
   "cell_type": "code",
   "execution_count": null,
   "metadata": {},
   "outputs": [],
   "source": []
  },
  {
   "cell_type": "code",
   "execution_count": 16,
   "metadata": {},
   "outputs": [],
   "source": [
    "vectorizer = TfidfVectorizer()\n",
    "vectors = vectorizer.fit_transform([documentA, documentB])\n",
    "feature_names = vectorizer.get_feature_names()\n",
    "dense = vectors.todense()\n",
    "denselist = dense.tolist()\n",
    "df = pd.DataFrame(denselist, columns=feature_names)"
   ]
  },
  {
   "cell_type": "code",
   "execution_count": null,
   "metadata": {},
   "outputs": [],
   "source": []
  },
  {
   "cell_type": "code",
   "execution_count": 17,
   "metadata": {},
   "outputs": [
    {
     "data": {
      "text/html": [
       "<div>\n",
       "<style scoped>\n",
       "    .dataframe tbody tr th:only-of-type {\n",
       "        vertical-align: middle;\n",
       "    }\n",
       "\n",
       "    .dataframe tbody tr th {\n",
       "        vertical-align: top;\n",
       "    }\n",
       "\n",
       "    .dataframe thead th {\n",
       "        text-align: right;\n",
       "    }\n",
       "</style>\n",
       "<table border=\"1\" class=\"dataframe\">\n",
       "  <thead>\n",
       "    <tr style=\"text-align: right;\">\n",
       "      <th></th>\n",
       "      <th>and</th>\n",
       "      <th>around</th>\n",
       "      <th>been</th>\n",
       "      <th>but</th>\n",
       "      <th>control</th>\n",
       "      <th>everything</th>\n",
       "      <th>experience</th>\n",
       "      <th>focused</th>\n",
       "      <th>good</th>\n",
       "      <th>in</th>\n",
       "      <th>...</th>\n",
       "      <th>problems</th>\n",
       "      <th>take</th>\n",
       "      <th>the</th>\n",
       "      <th>things</th>\n",
       "      <th>to</th>\n",
       "      <th>ve</th>\n",
       "      <th>want</th>\n",
       "      <th>when</th>\n",
       "      <th>you</th>\n",
       "      <th>your</th>\n",
       "    </tr>\n",
       "  </thead>\n",
       "  <tbody>\n",
       "    <tr>\n",
       "      <th>0</th>\n",
       "      <td>0.249514</td>\n",
       "      <td>0.249514</td>\n",
       "      <td>0.000000</td>\n",
       "      <td>0.000000</td>\n",
       "      <td>0.249514</td>\n",
       "      <td>0.249514</td>\n",
       "      <td>0.000000</td>\n",
       "      <td>0.000000</td>\n",
       "      <td>0.000000</td>\n",
       "      <td>0.000000</td>\n",
       "      <td>...</td>\n",
       "      <td>0.000000</td>\n",
       "      <td>0.249514</td>\n",
       "      <td>0.177531</td>\n",
       "      <td>0.000000</td>\n",
       "      <td>0.177531</td>\n",
       "      <td>0.000000</td>\n",
       "      <td>0.177531</td>\n",
       "      <td>0.177531</td>\n",
       "      <td>0.355062</td>\n",
       "      <td>0.177531</td>\n",
       "    </tr>\n",
       "    <tr>\n",
       "      <th>1</th>\n",
       "      <td>0.000000</td>\n",
       "      <td>0.000000</td>\n",
       "      <td>0.249514</td>\n",
       "      <td>0.249514</td>\n",
       "      <td>0.000000</td>\n",
       "      <td>0.000000</td>\n",
       "      <td>0.249514</td>\n",
       "      <td>0.249514</td>\n",
       "      <td>0.249514</td>\n",
       "      <td>0.249514</td>\n",
       "      <td>...</td>\n",
       "      <td>0.249514</td>\n",
       "      <td>0.000000</td>\n",
       "      <td>0.177531</td>\n",
       "      <td>0.249514</td>\n",
       "      <td>0.177531</td>\n",
       "      <td>0.249514</td>\n",
       "      <td>0.177531</td>\n",
       "      <td>0.177531</td>\n",
       "      <td>0.355062</td>\n",
       "      <td>0.177531</td>\n",
       "    </tr>\n",
       "  </tbody>\n",
       "</table>\n",
       "<p>2 rows × 26 columns</p>\n",
       "</div>"
      ],
      "text/plain": [
       "        and    around      been       but   control  everything  experience  \\\n",
       "0  0.249514  0.249514  0.000000  0.000000  0.249514    0.249514    0.000000   \n",
       "1  0.000000  0.000000  0.249514  0.249514  0.000000    0.000000    0.249514   \n",
       "\n",
       "    focused      good        in  ...  problems      take       the    things  \\\n",
       "0  0.000000  0.000000  0.000000  ...  0.000000  0.249514  0.177531  0.000000   \n",
       "1  0.249514  0.249514  0.249514  ...  0.249514  0.000000  0.177531  0.249514   \n",
       "\n",
       "         to        ve      want      when       you      your  \n",
       "0  0.177531  0.000000  0.177531  0.177531  0.355062  0.177531  \n",
       "1  0.177531  0.249514  0.177531  0.177531  0.355062  0.177531  \n",
       "\n",
       "[2 rows x 26 columns]"
      ]
     },
     "execution_count": 17,
     "metadata": {},
     "output_type": "execute_result"
    }
   ],
   "source": [
    "df"
   ]
  },
  {
   "cell_type": "code",
   "execution_count": null,
   "metadata": {},
   "outputs": [],
   "source": []
  }
 ],
 "metadata": {
  "kernelspec": {
   "display_name": "Python 3",
   "language": "python",
   "name": "python3"
  },
  "language_info": {
   "codemirror_mode": {
    "name": "ipython",
    "version": 3
   },
   "file_extension": ".py",
   "mimetype": "text/x-python",
   "name": "python",
   "nbconvert_exporter": "python",
   "pygments_lexer": "ipython3",
   "version": "3.7.3"
  }
 },
 "nbformat": 4,
 "nbformat_minor": 2
}
